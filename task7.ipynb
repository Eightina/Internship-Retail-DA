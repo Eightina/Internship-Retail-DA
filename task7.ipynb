{
 "cells": [
  {
   "cell_type": "code",
   "execution_count": 2,
   "metadata": {},
   "outputs": [],
   "source": [
    "import dask.dataframe as dd\n",
    "import dask.array as da\n",
    "import dask.bag as db\n",
    "import pandas as pd\n",
    "import numpy as np\n",
    "import matplotlib.pyplot as plt\n",
    "from datetime import datetime, timedelta\n",
    "import time\n",
    "from dask.diagnostics import ProgressBar as pb\n",
    "import seaborn as sns\n",
    "\n",
    "import pickle"
   ]
  },
  {
   "cell_type": "code",
   "execution_count": 23,
   "metadata": {},
   "outputs": [],
   "source": [
    "# import data\n",
    "df = dd.read_csv('processed.csv')\n",
    "df = df.drop('Unnamed: 0', axis=1)\n",
    "df.time = dd.to_datetime(df['time'])\n",
    "df = df[['gid','action']]\n",
    "\n",
    "# sort out buy action\n",
    "df1 =  df.copy()\n",
    "df1 = df1.loc[df1.action=='buy']\n",
    "df1 = df1.groupby('gid').count()\n",
    "df1 = df1.sort_values('action',ascending=False)\n",
    "\n",
    "# get top ids\n",
    "def get_top(n=20, action='pv'):\n",
    "    df1 =  df.copy()\n",
    "    df1 = df1.loc[df1.action==action]\n",
    "    df1 = df1.groupby('gid').count()\n",
    "    df1 = df1.sort_values('action',ascending=False)\n",
    "    return df1.head(20)"
   ]
  },
  {
   "cell_type": "code",
   "execution_count": 32,
   "metadata": {},
   "outputs": [],
   "source": [
    "top_buy = get_top(action='buy')\n",
    "top_pv = get_top(action='pv')\n",
    "top_cart = get_top(action='cart')\n",
    "top_fav = get_top(action='fav')"
   ]
  },
  {
   "cell_type": "code",
   "execution_count": 24,
   "metadata": {},
   "outputs": [],
   "source": [
    "# save data\n",
    "import pickle\n",
    "\n",
    "# with open('top_buy.pkl','wb') as file:\n",
    "#     pickle.dump(top_buy, file)\n",
    "    \n",
    "# with open('top_pv.pkl','wb') as file:\n",
    "#     pickle.dump(top_pv, file)\n",
    "    \n",
    "# with open('top_cart.pkl','wb') as file:\n",
    "#     pickle.dump(top_cart, file)\n",
    "    \n",
    "# with open('top_fav.pkl','wb') as file:\n",
    "#     pickle.dump(top_fav, file)\n",
    "    \n",
    "with open('top_buy.pkl','rb') as file:\n",
    "    top_buy = pickle.load(file)\n",
    "    \n",
    "with open('top_pv.pkl','rb') as file:\n",
    "    top_pv = pickle.load(file)\n",
    "    \n",
    "with open('top_cart.pkl','rb') as file:\n",
    "    top_cart = pickle.load(file)\n",
    "    \n",
    "with open('top_fav.pkl','rb') as file:\n",
    "    top_fav = pickle.load(file)\n"
   ]
  },
  {
   "cell_type": "code",
   "execution_count": 29,
   "metadata": {},
   "outputs": [
    {
     "data": {
      "text/plain": [
       "{740947, 1535294, 3031354}"
      ]
     },
     "execution_count": 29,
     "metadata": {},
     "output_type": "execute_result"
    }
   ],
   "source": [
    "# fav and buy\n",
    "set(top_fav.index)&set(top_buy.index)"
   ]
  },
  {
   "cell_type": "code",
   "execution_count": 28,
   "metadata": {},
   "outputs": [
    {
     "data": {
      "text/plain": [
       "{705557, 1535294, 2560262, 3031354, 4443059}"
      ]
     },
     "execution_count": 28,
     "metadata": {},
     "output_type": "execute_result"
    }
   ],
   "source": [
    "# cart and buy\n",
    "set(top_cart.index)&set(top_buy.index)"
   ]
  },
  {
   "cell_type": "code",
   "execution_count": 27,
   "metadata": {},
   "outputs": [
    {
     "data": {
      "text/plain": [
       "{1535294, 3031354, 4443059}"
      ]
     },
     "execution_count": 27,
     "metadata": {},
     "output_type": "execute_result"
    }
   ],
   "source": [
    "# pv and buy\n",
    "set(top_pv.index)&set(top_buy.index)"
   ]
  },
  {
   "cell_type": "code",
   "execution_count": 26,
   "metadata": {},
   "outputs": [
    {
     "data": {
      "text/plain": [
       "({138964,\n",
       "  812879,\n",
       "  1535294,\n",
       "  1583704,\n",
       "  2032668,\n",
       "  2279428,\n",
       "  2331370,\n",
       "  2453685,\n",
       "  2818406,\n",
       "  3031354,\n",
       "  3845720,\n",
       "  4649427},\n",
       " {138964,\n",
       "  812879,\n",
       "  1535294,\n",
       "  1583704,\n",
       "  2279428,\n",
       "  2331370,\n",
       "  2453685,\n",
       "  2818406,\n",
       "  3031354,\n",
       "  3845720,\n",
       "  4211339,\n",
       "  4443059})"
      ]
     },
     "execution_count": 26,
     "metadata": {},
     "output_type": "execute_result"
    }
   ],
   "source": [
    "# pv and fav, pv and cart\n",
    "set(top_pv.index)&set(top_fav.index),set(top_pv.index)&set(top_cart.index),"
   ]
  },
  {
   "cell_type": "markdown",
   "metadata": {},
   "source": [
    "1. 可以看出，三种前置行为中，加购和购买行为的联系是最紧密的，前二十名中有5个相同。而浏览和收藏差不多，都只有3个与前20销量相同，这说明收藏和购买的关系比较弱。\n",
    "2. 此外，分析浏览行为和收藏、加购的关系，可以发现这三个名单的重合率较高，收藏和加购前20各有12个在最高销售榜单里。这说明浏览量多的商品更容易被收入购物车或是收藏，但结合前面的关系，不是所有商品都会被购买，且进入购物车被购买的可能性更大。"
   ]
  },
  {
   "cell_type": "code",
   "execution_count": 22,
   "metadata": {},
   "outputs": [],
   "source": [
    "df = dd.read_csv('processed.csv')\n",
    "df = df.drop('Unnamed: 0', axis=1)\n",
    "df.time = dd.to_datetime(df['time'])\n",
    "df = df[['uid','action','time','cid']]\n",
    "og = df.loc[df.action=='buy']\n",
    "og = og.compute()"
   ]
  },
  {
   "cell_type": "code",
   "execution_count": 7,
   "metadata": {},
   "outputs": [],
   "source": [
    "\n",
    "\n",
    "with open('og.pkl','wb') as file:\n",
    "    pickle.dump(og, file)\n",
    "with open('og.pkl','rb') as file:\n",
    "    og = pickle.load(file)\n"
   ]
  },
  {
   "cell_type": "code",
   "execution_count": 23,
   "metadata": {},
   "outputs": [
    {
     "data": {
      "text/plain": [
       "cid\n",
       "1464116    34591\n",
       "2735466    33730\n",
       "2885642    31844\n",
       "4145813    31658\n",
       "4756105    28258\n",
       "4801426    26495\n",
       "982926     24825\n",
       "2640118    18332\n",
       "4159072    18016\n",
       "1320293    17137\n",
       "3002561    16472\n",
       "4357323    15854\n",
       "4789432    15696\n",
       "903809     15447\n",
       "4217906    14442\n",
       "1299190    13723\n",
       "570735     13711\n",
       "2465336    13350\n",
       "1879194    12868\n",
       "3607361    12721\n",
       "Name: action, dtype: int64"
      ]
     },
     "execution_count": 23,
     "metadata": {},
     "output_type": "execute_result"
    }
   ],
   "source": [
    "# top 20 cats\n",
    "top_cat = og.groupby('cid').count().sort_values('action',ascending=False)['action'].head(20)\n",
    "top_cat"
   ]
  },
  {
   "cell_type": "code",
   "execution_count": 30,
   "metadata": {},
   "outputs": [
    {
     "data": {
      "text/plain": [
       "(uid\n",
       " 486458     262\n",
       " 866670     177\n",
       " 702034     159\n",
       " 107013     131\n",
       " 1014116    118\n",
       "           ... \n",
       " 505702       1\n",
       " 505699       1\n",
       " 505698       1\n",
       " 505697       1\n",
       " 1018011      1\n",
       " Name: action, Length: 672404, dtype: int64,\n",
       " uid\n",
       " 333794   2017-12-03 15:59:59\n",
       " 189864   2017-12-03 15:59:59\n",
       " 871420   2017-12-03 15:59:59\n",
       " 461596   2017-12-03 15:59:59\n",
       " 206291   2017-12-03 15:59:59\n",
       "                  ...        \n",
       " 128861   2017-11-24 16:00:13\n",
       " 531029   2017-11-24 16:00:08\n",
       " 38184    2017-11-24 16:00:04\n",
       " 39168    2017-11-24 16:00:00\n",
       " 73805    2017-11-24 16:00:00\n",
       " Name: time, Length: 672404, dtype: datetime64[ns])"
      ]
     },
     "execution_count": 30,
     "metadata": {},
     "output_type": "execute_result"
    }
   ],
   "source": [
    "# R & F\n",
    "F_list = og.groupby('uid').count().sort_values('action',ascending=False)['action']\n",
    "R_list = og.groupby('uid').max().sort_values('time',ascending=False)['time']\n",
    "F_list,\\\n",
    "R_list"
   ]
  },
  {
   "cell_type": "code",
   "execution_count": 71,
   "metadata": {},
   "outputs": [
    {
     "data": {
      "text/html": [
       "<div>\n",
       "<style scoped>\n",
       "    .dataframe tbody tr th:only-of-type {\n",
       "        vertical-align: middle;\n",
       "    }\n",
       "\n",
       "    .dataframe tbody tr th {\n",
       "        vertical-align: top;\n",
       "    }\n",
       "\n",
       "    .dataframe thead th {\n",
       "        text-align: right;\n",
       "    }\n",
       "</style>\n",
       "<table border=\"1\" class=\"dataframe\">\n",
       "  <thead>\n",
       "    <tr style=\"text-align: right;\">\n",
       "      <th></th>\n",
       "      <th>action</th>\n",
       "      <th>time</th>\n",
       "      <th>F</th>\n",
       "      <th>R</th>\n",
       "      <th>RF score</th>\n",
       "    </tr>\n",
       "    <tr>\n",
       "      <th>uid</th>\n",
       "      <th></th>\n",
       "      <th></th>\n",
       "      <th></th>\n",
       "      <th></th>\n",
       "      <th></th>\n",
       "    </tr>\n",
       "  </thead>\n",
       "  <tbody>\n",
       "    <tr>\n",
       "      <th>486458</th>\n",
       "      <td>262</td>\n",
       "      <td>2017-12-03 13:27:24</td>\n",
       "      <td>89.473433</td>\n",
       "      <td>1.152044</td>\n",
       "      <td>90.625477</td>\n",
       "    </tr>\n",
       "    <tr>\n",
       "      <th>866670</th>\n",
       "      <td>177</td>\n",
       "      <td>2017-12-02 12:44:08</td>\n",
       "      <td>60.109797</td>\n",
       "      <td>0.723909</td>\n",
       "      <td>60.833706</td>\n",
       "    </tr>\n",
       "    <tr>\n",
       "      <th>702034</th>\n",
       "      <td>159</td>\n",
       "      <td>2017-12-03 14:57:57</td>\n",
       "      <td>53.891615</td>\n",
       "      <td>1.169169</td>\n",
       "      <td>55.060784</td>\n",
       "    </tr>\n",
       "    <tr>\n",
       "      <th>107013</th>\n",
       "      <td>131</td>\n",
       "      <td>2017-12-03 13:21:33</td>\n",
       "      <td>44.218887</td>\n",
       "      <td>1.152044</td>\n",
       "      <td>45.370931</td>\n",
       "    </tr>\n",
       "    <tr>\n",
       "      <th>1014116</th>\n",
       "      <td>118</td>\n",
       "      <td>2017-12-03 14:01:17</td>\n",
       "      <td>39.727978</td>\n",
       "      <td>1.169169</td>\n",
       "      <td>40.897147</td>\n",
       "    </tr>\n",
       "    <tr>\n",
       "      <th>...</th>\n",
       "      <td>...</td>\n",
       "      <td>...</td>\n",
       "      <td>...</td>\n",
       "      <td>...</td>\n",
       "      <td>...</td>\n",
       "    </tr>\n",
       "    <tr>\n",
       "      <th>739218</th>\n",
       "      <td>1</td>\n",
       "      <td>2017-11-24 16:20:16</td>\n",
       "      <td>-0.690204</td>\n",
       "      <td>-2.495660</td>\n",
       "      <td>-3.185864</td>\n",
       "    </tr>\n",
       "    <tr>\n",
       "      <th>958505</th>\n",
       "      <td>1</td>\n",
       "      <td>2017-11-24 16:09:15</td>\n",
       "      <td>-0.690204</td>\n",
       "      <td>-2.495660</td>\n",
       "      <td>-3.185864</td>\n",
       "    </tr>\n",
       "    <tr>\n",
       "      <th>388388</th>\n",
       "      <td>1</td>\n",
       "      <td>2017-11-24 16:47:36</td>\n",
       "      <td>-0.690204</td>\n",
       "      <td>-2.495660</td>\n",
       "      <td>-3.185864</td>\n",
       "    </tr>\n",
       "    <tr>\n",
       "      <th>220581</th>\n",
       "      <td>1</td>\n",
       "      <td>2017-11-24 16:33:01</td>\n",
       "      <td>-0.690204</td>\n",
       "      <td>-2.495660</td>\n",
       "      <td>-3.185864</td>\n",
       "    </tr>\n",
       "    <tr>\n",
       "      <th>494126</th>\n",
       "      <td>1</td>\n",
       "      <td>2017-11-24 16:01:49</td>\n",
       "      <td>-0.690204</td>\n",
       "      <td>-2.495660</td>\n",
       "      <td>-3.185864</td>\n",
       "    </tr>\n",
       "  </tbody>\n",
       "</table>\n",
       "<p>672404 rows × 5 columns</p>\n",
       "</div>"
      ],
      "text/plain": [
       "         action                time          F         R   RF score\n",
       "uid                                                                \n",
       "486458      262 2017-12-03 13:27:24  89.473433  1.152044  90.625477\n",
       "866670      177 2017-12-02 12:44:08  60.109797  0.723909  60.833706\n",
       "702034      159 2017-12-03 14:57:57  53.891615  1.169169  55.060784\n",
       "107013      131 2017-12-03 13:21:33  44.218887  1.152044  45.370931\n",
       "1014116     118 2017-12-03 14:01:17  39.727978  1.169169  40.897147\n",
       "...         ...                 ...        ...       ...        ...\n",
       "739218        1 2017-11-24 16:20:16  -0.690204 -2.495660  -3.185864\n",
       "958505        1 2017-11-24 16:09:15  -0.690204 -2.495660  -3.185864\n",
       "388388        1 2017-11-24 16:47:36  -0.690204 -2.495660  -3.185864\n",
       "220581        1 2017-11-24 16:33:01  -0.690204 -2.495660  -3.185864\n",
       "494126        1 2017-11-24 16:01:49  -0.690204 -2.495660  -3.185864\n",
       "\n",
       "[672404 rows x 5 columns]"
      ]
     },
     "execution_count": 71,
     "metadata": {},
     "output_type": "execute_result"
    }
   ],
   "source": [
    "# standardize and add up\n",
    "ndf = dd.concat([F_list,R_list],axis=1)\n",
    "ndf = ndf.compute()\n",
    "from sklearn import preprocessing\n",
    "\n",
    "\n",
    "ndf['F'] = preprocessing.scale(ndf.action)\n",
    "ndf['R'] = preprocessing.scale((ndf.time - pd.Timestamp(2017,12,4,0)).astype('timedelta64[h]').view('float'))\n",
    "ndf['RF score'] = ndf['R'] + ndf['F']\n",
    "ndf.sort_values(by='RF score', inplace=True,ascending=False)\n",
    "ndf"
   ]
  },
  {
   "cell_type": "code",
   "execution_count": null,
   "metadata": {},
   "outputs": [],
   "source": [
    "nums = [-1,0,3,5,9,12]\n",
    "target = 2\n"
   ]
  },
  {
   "cell_type": "code",
   "execution_count": null,
   "metadata": {},
   "outputs": [],
   "source": [
    "left = 0\n",
    "right = len(nums)-1\n",
    "mid = (left+right)//2\n",
    "while nums[mid] != target:\n",
    "    if target < nums[left]:\n",
    "        left = left - (right-left)\n",
    "        right = left            \n",
    "    elif target > nums[right]:\n",
    "        right = right + (right - left)\n",
    "        left = right\n",
    "    else:\n",
    "        left = (right+left)//2\n",
    "        mid = (left+right)//2\n"
   ]
  },
  {
   "cell_type": "code",
   "execution_count": 1,
   "metadata": {},
   "outputs": [
    {
     "data": {
      "text/plain": [
       "0"
      ]
     },
     "execution_count": 1,
     "metadata": {},
     "output_type": "execute_result"
    }
   ],
   "source": [
    "1 // 2"
   ]
  }
 ],
 "metadata": {
  "interpreter": {
   "hash": "87bde4b8ac899a866791947b85fa526e720fe9897752d0655688f577c9f6fa63"
  },
  "kernelspec": {
   "display_name": "Python 3.8.11 ('python38')",
   "language": "python",
   "name": "python3"
  },
  "language_info": {
   "codemirror_mode": {
    "name": "ipython",
    "version": 3
   },
   "file_extension": ".py",
   "mimetype": "text/x-python",
   "name": "python",
   "nbconvert_exporter": "python",
   "pygments_lexer": "ipython3",
   "version": "3.8.11"
  },
  "orig_nbformat": 4
 },
 "nbformat": 4,
 "nbformat_minor": 2
}
