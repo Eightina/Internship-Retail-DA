{
 "cells": [
  {
   "cell_type": "code",
   "execution_count": 1,
   "metadata": {},
   "outputs": [],
   "source": [
    "import pandas as pd\n",
    "import numpy as np"
   ]
  },
  {
   "cell_type": "markdown",
   "metadata": {},
   "source": [
    "----"
   ]
  },
  {
   "cell_type": "markdown",
   "metadata": {},
   "source": [
    "# Preprocessing"
   ]
  },
  {
   "cell_type": "code",
   "execution_count": 2,
   "metadata": {},
   "outputs": [
    {
     "data": {
      "text/html": [
       "<div>\n",
       "<style scoped>\n",
       "    .dataframe tbody tr th:only-of-type {\n",
       "        vertical-align: middle;\n",
       "    }\n",
       "\n",
       "    .dataframe tbody tr th {\n",
       "        vertical-align: top;\n",
       "    }\n",
       "\n",
       "    .dataframe thead th {\n",
       "        text-align: right;\n",
       "    }\n",
       "</style>\n",
       "<table border=\"1\" class=\"dataframe\">\n",
       "  <thead>\n",
       "    <tr style=\"text-align: right;\">\n",
       "      <th></th>\n",
       "      <th>uid</th>\n",
       "      <th>gid</th>\n",
       "      <th>cid</th>\n",
       "      <th>action</th>\n",
       "      <th>time</th>\n",
       "    </tr>\n",
       "  </thead>\n",
       "  <tbody>\n",
       "    <tr>\n",
       "      <th>0</th>\n",
       "      <td>1</td>\n",
       "      <td>2268318</td>\n",
       "      <td>2520377</td>\n",
       "      <td>pv</td>\n",
       "      <td>1511544070</td>\n",
       "    </tr>\n",
       "    <tr>\n",
       "      <th>1</th>\n",
       "      <td>1</td>\n",
       "      <td>2333346</td>\n",
       "      <td>2520771</td>\n",
       "      <td>pv</td>\n",
       "      <td>1511561733</td>\n",
       "    </tr>\n",
       "    <tr>\n",
       "      <th>2</th>\n",
       "      <td>1</td>\n",
       "      <td>2576651</td>\n",
       "      <td>149192</td>\n",
       "      <td>pv</td>\n",
       "      <td>1511572885</td>\n",
       "    </tr>\n",
       "    <tr>\n",
       "      <th>3</th>\n",
       "      <td>1</td>\n",
       "      <td>3830808</td>\n",
       "      <td>4181361</td>\n",
       "      <td>pv</td>\n",
       "      <td>1511593493</td>\n",
       "    </tr>\n",
       "    <tr>\n",
       "      <th>4</th>\n",
       "      <td>1</td>\n",
       "      <td>4365585</td>\n",
       "      <td>2520377</td>\n",
       "      <td>pv</td>\n",
       "      <td>1511596146</td>\n",
       "    </tr>\n",
       "  </tbody>\n",
       "</table>\n",
       "</div>"
      ],
      "text/plain": [
       "   uid      gid      cid action        time\n",
       "0    1  2268318  2520377     pv  1511544070\n",
       "1    1  2333346  2520771     pv  1511561733\n",
       "2    1  2576651   149192     pv  1511572885\n",
       "3    1  3830808  4181361     pv  1511593493\n",
       "4    1  4365585  2520377     pv  1511596146"
      ]
     },
     "execution_count": 2,
     "metadata": {},
     "output_type": "execute_result"
    }
   ],
   "source": [
    "df = pd.read_csv('UserBehavior.csv',names=['uid','gid','cid','action','time'])\n",
    "df.head()"
   ]
  },
  {
   "cell_type": "code",
   "execution_count": 3,
   "metadata": {},
   "outputs": [
    {
     "data": {
      "text/plain": [
       "100150807"
      ]
     },
     "execution_count": 3,
     "metadata": {},
     "output_type": "execute_result"
    }
   ],
   "source": [
    "len(df)"
   ]
  },
  {
   "cell_type": "code",
   "execution_count": 4,
   "metadata": {},
   "outputs": [],
   "source": [
    "df.iloc[:len(df)//4].to_csv('df1.csv', index=0)\n",
    "df.iloc[len(df)//4:len(df)//2].to_csv('df2.csv',index=0)\n",
    "df.iloc[len(df)//2:len(df)//4*3].to_csv('df3.csv',index=0)\n",
    "df.iloc[len(df)//4*3:].to_csv('df4.csv',index=0) #seperate df into 4 parts"
   ]
  },
  {
   "cell_type": "code",
   "execution_count": 5,
   "metadata": {},
   "outputs": [],
   "source": [
    "def process(data=0, i=0): #timestamp to datetime\n",
    "    df = data\n",
    "    df['time'] = [pd.Timestamp(i, unit='s') for i in df['time']]\n",
    "    df.to_csv('df'+str(i)+'.csv', index=0)\n",
    "    return df.head()"
   ]
  },
  {
   "cell_type": "code",
   "execution_count": 7,
   "metadata": {},
   "outputs": [],
   "source": [
    "del df #processing df1~4\n",
    "for i in range(1,5):\n",
    "    df = pd.read_csv('df'+str(i)+'.csv')\n",
    "    process(data=df,i=i)\n",
    "    del df"
   ]
  },
  {
   "cell_type": "code",
   "execution_count": 3,
   "metadata": {},
   "outputs": [
    {
     "name": "stdout",
     "output_type": "stream",
     "text": [
      "2\n",
      "3\n",
      "4\n"
     ]
    }
   ],
   "source": [
    "df = pd.read_csv('df1.csv') #concat df1~4\n",
    "for i in range(2,5):\n",
    "    ndf = pd.read_csv('df'+str(i)+'.csv')\n",
    "    df = pd.concat([df,ndf])\n",
    "    del ndf\n",
    "    print(i)\n",
    "df.to_csv('processed.csv',index=0)"
   ]
  },
  {
   "cell_type": "code",
   "execution_count": 2,
   "metadata": {},
   "outputs": [],
   "source": [
    "df = pd.read_csv('processed.csv') #read processed df\n",
    "df = df.drop('Unnamed: 0',axis=1)\n",
    "df.info()"
   ]
  },
  {
   "cell_type": "code",
   "execution_count": 6,
   "metadata": {},
   "outputs": [
    {
     "data": {
      "text/html": [
       "<div>\n",
       "<style scoped>\n",
       "    .dataframe tbody tr th:only-of-type {\n",
       "        vertical-align: middle;\n",
       "    }\n",
       "\n",
       "    .dataframe tbody tr th {\n",
       "        vertical-align: top;\n",
       "    }\n",
       "\n",
       "    .dataframe thead th {\n",
       "        text-align: right;\n",
       "    }\n",
       "</style>\n",
       "<table border=\"1\" class=\"dataframe\">\n",
       "  <thead>\n",
       "    <tr style=\"text-align: right;\">\n",
       "      <th></th>\n",
       "      <th>uid</th>\n",
       "      <th>gid</th>\n",
       "      <th>cid</th>\n",
       "      <th>action</th>\n",
       "      <th>time</th>\n",
       "    </tr>\n",
       "  </thead>\n",
       "  <tbody>\n",
       "    <tr>\n",
       "      <th>0</th>\n",
       "      <td>1</td>\n",
       "      <td>2268318</td>\n",
       "      <td>2520377</td>\n",
       "      <td>pv</td>\n",
       "      <td>2017-11-24 17:21:10</td>\n",
       "    </tr>\n",
       "    <tr>\n",
       "      <th>1</th>\n",
       "      <td>1</td>\n",
       "      <td>2333346</td>\n",
       "      <td>2520771</td>\n",
       "      <td>pv</td>\n",
       "      <td>2017-11-24 22:15:33</td>\n",
       "    </tr>\n",
       "    <tr>\n",
       "      <th>2</th>\n",
       "      <td>1</td>\n",
       "      <td>2576651</td>\n",
       "      <td>149192</td>\n",
       "      <td>pv</td>\n",
       "      <td>2017-11-25 01:21:25</td>\n",
       "    </tr>\n",
       "    <tr>\n",
       "      <th>3</th>\n",
       "      <td>1</td>\n",
       "      <td>3830808</td>\n",
       "      <td>4181361</td>\n",
       "      <td>pv</td>\n",
       "      <td>2017-11-25 07:04:53</td>\n",
       "    </tr>\n",
       "    <tr>\n",
       "      <th>4</th>\n",
       "      <td>1</td>\n",
       "      <td>4365585</td>\n",
       "      <td>2520377</td>\n",
       "      <td>pv</td>\n",
       "      <td>2017-11-25 07:49:06</td>\n",
       "    </tr>\n",
       "  </tbody>\n",
       "</table>\n",
       "</div>"
      ],
      "text/plain": [
       "   uid      gid      cid action                 time\n",
       "0    1  2268318  2520377     pv  2017-11-24 17:21:10\n",
       "1    1  2333346  2520771     pv  2017-11-24 22:15:33\n",
       "2    1  2576651   149192     pv  2017-11-25 01:21:25\n",
       "3    1  3830808  4181361     pv  2017-11-25 07:04:53\n",
       "4    1  4365585  2520377     pv  2017-11-25 07:49:06"
      ]
     },
     "execution_count": 6,
     "metadata": {},
     "output_type": "execute_result"
    }
   ],
   "source": [
    "df.head()"
   ]
  },
  {
   "cell_type": "code",
   "execution_count": 7,
   "metadata": {},
   "outputs": [
    {
     "data": {
      "text/plain": [
       "uid       0\n",
       "gid       0\n",
       "cid       0\n",
       "action    0\n",
       "time      0\n",
       "dtype: int64"
      ]
     },
     "execution_count": 7,
     "metadata": {},
     "output_type": "execute_result"
    }
   ],
   "source": [
    "df.isnull().sum() #check null"
   ]
  },
  {
   "cell_type": "markdown",
   "metadata": {},
   "source": [
    "----"
   ]
  },
  {
   "cell_type": "markdown",
   "metadata": {},
   "source": [
    "# Stats "
   ]
  },
  {
   "cell_type": "code",
   "execution_count": 2,
   "metadata": {},
   "outputs": [],
   "source": [
    "def select_time(data=None, ranging=None): #data ranging form a to b datetime\n",
    "    return data.loc[(data['time']>=ranging[0]) & (data['time']<=ranging[1])]"
   ]
  },
  {
   "cell_type": "code",
   "execution_count": 3,
   "metadata": {},
   "outputs": [],
   "source": [
    "def main(test=True):\n",
    "    if test == True:\n",
    "        df = pd.read_csv('df1.csv')\n",
    "        df = df.head(10240)\n",
    "    else:\n",
    "        df = pd.read_csv('processed.csv') #read processed df\n",
    "        df = df.drop('Unnamed: 0', axis=1)\n",
    "        print(df.info())\n",
    "    df['time'] = pd.to_datetime(df.time)\n",
    "    #select data by time range\n",
    "    ranging = input('selecting range of time:2017.11.24-00:16:16-2017.11.25-05:05:06').split('-')\n",
    "    print(ranging)\n",
    "    d0 = [int(i) for i in ranging[0].split('.')]\n",
    "    t0 = [int(i) for i in ranging[1].split(':')]\n",
    "    d1 = [int(i) for i in ranging[2].split('.')]\n",
    "    t1 = [int(i) for i in ranging[3].split(':')]\n",
    "    time0 = pd.Timestamp(d0[0],d0[1],d0[2],t0[0],t0[1],t0[2])\n",
    "    time1 = pd.Timestamp(d1[0],d1[1],d1[2],t1[0],t1[1],t1[2])\n",
    "    df = select_time(data=df, ranging=[time0, time1])\n",
    "    #simple stasts \n",
    "    print('用户数：', len(df.groupby('uid').agg('count')))\n",
    "    print('商品数：', len(df.groupby('gid').agg('count')))\n",
    "    print('用户行为数：', len(df.groupby('action').agg('count')))\n",
    "    print('总条目数：', len(df))\n",
    "    #first getting required gid, then extracting corresponding cid\n",
    "    pvtop = df.set_index('action').loc['pv'].groupby('gid').agg('count').sort_values('time',ascending=False).head(10).index\n",
    "    buytop = df.set_index('action').loc['buy'].groupby('gid').agg('count').sort_values('time',ascending=False).head(10).index\n",
    "    print('浏览数前10商品及其类别:',df.groupby('gid').agg('mean')['cid'].astype('int').loc[pvtop])\n",
    "    print('购买数前10商品及其类别:',df.groupby('gid').agg('mean')['cid'].astype('int').loc[buytop])\n",
    "    "
   ]
  },
  {
   "cell_type": "code",
   "execution_count": 4,
   "metadata": {},
   "outputs": [
    {
     "name": "stdout",
     "output_type": "stream",
     "text": [
      "<class 'pandas.core.frame.DataFrame'>\n",
      "RangeIndex: 100150807 entries, 0 to 100150806\n",
      "Data columns (total 5 columns):\n",
      " #   Column  Dtype \n",
      "---  ------  ----- \n",
      " 0   uid     int64 \n",
      " 1   gid     int64 \n",
      " 2   cid     int64 \n",
      " 3   action  object\n",
      " 4   time    object\n",
      "dtypes: int64(3), object(2)\n",
      "memory usage: 3.7+ GB\n",
      "None\n",
      "用户数： 987983\n",
      "商品数： 3982878\n",
      "用户行为数： 4\n",
      "总条目数： 88264377\n",
      "浏览数前10商品及其类别: gid\n",
      "812879     4756105\n",
      "3845720    3607361\n",
      "138964     3607361\n",
      "2331370    3607361\n",
      "3371523    1859277\n",
      "2032668    1080785\n",
      "2367945    1859277\n",
      "1591862    1320293\n",
      "2338453    3607361\n",
      "4211339    4756105\n",
      "Name: cid, dtype: int32\n",
      "购买数前10商品及其类别: gid\n",
      "3122135    1516409\n",
      "3031354    2735466\n",
      "3964583     800581\n",
      "2560262    2735466\n",
      "2964774    1265358\n",
      "1116492    2297500\n",
      "1910706    1516409\n",
      "740947      904454\n",
      "1415828    2832009\n",
      "4443059     570735\n",
      "Name: cid, dtype: int32\n"
     ]
    }
   ],
   "source": [
    "main(False)"
   ]
  },
  {
   "cell_type": "code",
   "execution_count": null,
   "metadata": {},
   "outputs": [],
   "source": []
  }
 ],
 "metadata": {
  "interpreter": {
   "hash": "cc389f016b4508cd8daa88f4ee394fd1693d7bd89433f66362fdc17b674936ae"
  },
  "kernelspec": {
   "display_name": "Python 3.8.11 ('python38')",
   "language": "python",
   "name": "python3"
  },
  "language_info": {
   "codemirror_mode": {
    "name": "ipython",
    "version": 3
   },
   "file_extension": ".py",
   "mimetype": "text/x-python",
   "name": "python",
   "nbconvert_exporter": "python",
   "pygments_lexer": "ipython3",
   "version": "3.8.11"
  },
  "orig_nbformat": 4
 },
 "nbformat": 4,
 "nbformat_minor": 2
}
